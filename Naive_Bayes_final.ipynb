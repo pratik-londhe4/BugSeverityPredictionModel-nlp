{
 "cells": [
  {
   "cell_type": "code",
   "execution_count": 65,
   "id": "c1a4e5a7-15e8-4939-9d59-90f4ed0888a6",
   "metadata": {},
   "outputs": [],
   "source": [
    "#imports\n",
    "import pandas as pd\n",
    "import numpy as np\n",
    "from sklearn.feature_extraction.text import CountVectorizer\n",
    "from sklearn.feature_extraction.text import TfidfTransformer\n",
    "import matplotlib.pyplot as plt\n",
    "from sklearn.naive_bayes import MultinomialNB\n"
   ]
  },
  {
   "cell_type": "code",
   "execution_count": 66,
   "id": "bb91def1-2064-4893-abcc-187f1fe77d1a",
   "metadata": {},
   "outputs": [
    {
     "data": {
      "text/html": [
       "<div>\n",
       "<style scoped>\n",
       "    .dataframe tbody tr th:only-of-type {\n",
       "        vertical-align: middle;\n",
       "    }\n",
       "\n",
       "    .dataframe tbody tr th {\n",
       "        vertical-align: top;\n",
       "    }\n",
       "\n",
       "    .dataframe thead th {\n",
       "        text-align: right;\n",
       "    }\n",
       "</style>\n",
       "<table border=\"1\" class=\"dataframe\">\n",
       "  <thead>\n",
       "    <tr style=\"text-align: right;\">\n",
       "      <th></th>\n",
       "      <th>id</th>\n",
       "      <th>severity</th>\n",
       "      <th>description</th>\n",
       "    </tr>\n",
       "  </thead>\n",
       "  <tbody>\n",
       "    <tr>\n",
       "      <th>0</th>\n",
       "      <td>322620</td>\n",
       "      <td>normal</td>\n",
       "      <td>Logging in with 'Remember my Login' deselected...</td>\n",
       "    </tr>\n",
       "    <tr>\n",
       "      <th>1</th>\n",
       "      <td>322807</td>\n",
       "      <td>enhancement</td>\n",
       "      <td>a spelling's mistake</td>\n",
       "    </tr>\n",
       "    <tr>\n",
       "      <th>2</th>\n",
       "      <td>322837</td>\n",
       "      <td>normal</td>\n",
       "      <td>[RFE] Unsubscribe from bug you've reported</td>\n",
       "    </tr>\n",
       "    <tr>\n",
       "      <th>3</th>\n",
       "      <td>322462</td>\n",
       "      <td>minor</td>\n",
       "      <td>LDAP Authentication: if LDAPbinddn is defined,...</td>\n",
       "    </tr>\n",
       "    <tr>\n",
       "      <th>4</th>\n",
       "      <td>323100</td>\n",
       "      <td>normal</td>\n",
       "      <td>'Boundary' line removed from multipart message...</td>\n",
       "    </tr>\n",
       "  </tbody>\n",
       "</table>\n",
       "</div>"
      ],
      "text/plain": [
       "       id     severity                                        description\n",
       "0  322620       normal  Logging in with 'Remember my Login' deselected...\n",
       "1  322807  enhancement                               a spelling's mistake\n",
       "2  322837       normal         [RFE] Unsubscribe from bug you've reported\n",
       "3  322462        minor  LDAP Authentication: if LDAPbinddn is defined,...\n",
       "4  323100       normal  'Boundary' line removed from multipart message..."
      ]
     },
     "execution_count": 66,
     "metadata": {},
     "output_type": "execute_result"
    }
   ],
   "source": [
    "# df = pd.read_csv('bug_data.csv')\n",
    "df = pd.read_csv('processed_data/all_app_merged.csv')\n",
    "df.head()"
   ]
  },
  {
   "cell_type": "code",
   "execution_count": 67,
   "id": "035a6c8c-2062-4f2b-9a1c-e44db5e08c96",
   "metadata": {},
   "outputs": [
    {
     "data": {
      "text/plain": [
       "(168024, 3)"
      ]
     },
     "execution_count": 67,
     "metadata": {},
     "output_type": "execute_result"
    }
   ],
   "source": [
    "df.shape"
   ]
  },
  {
   "cell_type": "code",
   "execution_count": 68,
   "id": "134f5459-1e74-409b-9aa8-f4212bb30989",
   "metadata": {},
   "outputs": [
    {
     "data": {
      "text/plain": [
       "normal         123477\n",
       "critical        16738\n",
       "major           16067\n",
       "minor            7546\n",
       "trivial          3165\n",
       "blocker           806\n",
       "enhancement       225\n",
       "Name: severity, dtype: int64"
      ]
     },
     "execution_count": 68,
     "metadata": {},
     "output_type": "execute_result"
    }
   ],
   "source": [
    "df.severity.value_counts()"
   ]
  },
  {
   "cell_type": "code",
   "execution_count": 69,
   "id": "c1b57480-459f-49a7-9ff2-17dead74e8ae",
   "metadata": {},
   "outputs": [],
   "source": [
    "# #remove enhancement\n",
    "# df = df[df.severity!= \"enhancement\"]\n",
    "# df = df[df.severity!= 'normal']\n",
    "\n",
    "# df.severity.value_counts()"
   ]
  },
  {
   "cell_type": "code",
   "execution_count": 70,
   "id": "f774e7b5-941e-40fd-b32d-09f069cde81b",
   "metadata": {},
   "outputs": [
    {
     "data": {
      "text/plain": [
       "normal      100000\n",
       "major       100000\n",
       "critical    100000\n",
       "minor       100000\n",
       "blocker     100000\n",
       "Name: severity, dtype: int64"
      ]
     },
     "execution_count": 70,
     "metadata": {},
     "output_type": "execute_result"
    }
   ],
   "source": [
    "from sklearn.utils import resample\n",
    "normal =df[df.severity=='normal']\n",
    "major =df[df.severity=='major']\n",
    "minor =df[df.severity=='minor']\n",
    "blocker =df[df.severity=='blocker']\n",
    "trivial =df[df.severity=='trivial']\n",
    "critical =df[df.severity=='critical']\n",
    "# enhancement =df[df.severity=='enhancement']\n",
    "\n",
    "def resample_df(df):\n",
    "    return resample(df,replace=True,n_samples=100000)\n",
    "\n",
    "normal =resample_df(normal)\n",
    "major =resample_df(major)\n",
    "minor =resample_df(minor)\n",
    "blocker =resample_df(blocker)\n",
    "trivial =resample_df(trivial)\n",
    "critical =resample_df(critical)\n",
    "# enhancement =resample_df(enhancement)\n",
    "\n",
    "df = pd.concat([normal,major,critical,minor,blocker])\n",
    "\n",
    "\n",
    "df.severity.value_counts()\n"
   ]
  },
  {
   "cell_type": "code",
   "execution_count": 71,
   "id": "cee06b9f-828c-42bb-be66-b4affcb6d392",
   "metadata": {},
   "outputs": [
    {
     "name": "stderr",
     "output_type": "stream",
     "text": [
      "[nltk_data] Downloading package stopwords to /home/pratik/nltk_data...\n",
      "[nltk_data]   Package stopwords is already up-to-date!\n",
      "[nltk_data] Downloading package punkt to /home/pratik/nltk_data...\n",
      "[nltk_data]   Package punkt is already up-to-date!\n",
      "[nltk_data] Downloading package wordnet to /home/pratik/nltk_data...\n",
      "[nltk_data]   Package wordnet is already up-to-date!\n"
     ]
    },
    {
     "data": {
      "text/plain": [
       "True"
      ]
     },
     "execution_count": 71,
     "metadata": {},
     "output_type": "execute_result"
    }
   ],
   "source": [
    "#text preprocessing before using vectorization\n",
    "import nltk\n",
    "from nltk.corpus import stopwords\n",
    "from nltk.stem import PorterStemmer\n",
    "from nltk.tokenize import word_tokenize\n",
    "from nltk.stem import WordNetLemmatizer\n",
    "import string\n",
    "\n",
    "# Download if not already present\n",
    "nltk.download('stopwords')\n",
    "nltk.download('punkt')\n",
    "nltk.download('wordnet')\n"
   ]
  },
  {
   "cell_type": "code",
   "execution_count": 72,
   "id": "3107191d-5412-4641-99a0-72d95ea13d1a",
   "metadata": {},
   "outputs": [],
   "source": [
    "\n",
    "def preprocess_text(text):\n",
    "    \"\"\"\n",
    "    Tokenize, remove stopwords, and lemmatize text.\n",
    "    \"\"\"\n",
    "    # Tokenize text\n",
    "    tokens = word_tokenize(text.lower())\n",
    "    \n",
    "    # Remove stopwords\n",
    "    stop_words = set(stopwords.words('english'))\n",
    "    filtered_tokens = [token for token in tokens if token not in stop_words]\n",
    "    \n",
    "    # Lemmatize tokens\n",
    "    lemmatizer = WordNetLemmatizer()\n",
    "    lemmatized_tokens = [lemmatizer.lemmatize(token) for token in filtered_tokens]\n",
    "    \n",
    "    # Rejoin lemmatized tokens into a single string\n",
    "    preprocessed_text = ' '.join(lemmatized_tokens)\n",
    "    \n",
    "    return preprocessed_text"
   ]
  },
  {
   "cell_type": "code",
   "execution_count": 73,
   "id": "d6cce5b6-122a-481d-917d-b4285c343c99",
   "metadata": {},
   "outputs": [],
   "source": [
    " # %time df['description'] = df['description'].apply(preprocess_text)"
   ]
  },
  {
   "cell_type": "code",
   "execution_count": null,
   "id": "4939fbd9-deaa-4032-85d0-9a044da3e37a",
   "metadata": {},
   "outputs": [],
   "source": []
  },
  {
   "cell_type": "code",
   "execution_count": null,
   "id": "4fae9e24-a831-4b3d-bf1e-72fe26833c73",
   "metadata": {},
   "outputs": [],
   "source": []
  },
  {
   "cell_type": "code",
   "execution_count": 74,
   "id": "a5c35900-86be-4c14-a021-9f90f39b1a25",
   "metadata": {},
   "outputs": [],
   "source": [
    "df.head()\n",
    "df.dropna(inplace=True)"
   ]
  },
  {
   "cell_type": "code",
   "execution_count": 75,
   "id": "47b33d33-01b2-4c40-89f0-2e6d05f761b8",
   "metadata": {},
   "outputs": [],
   "source": [
    "#define x as bug description and y as the severity\n",
    "x = df.description\n",
    "y = df.severity\n",
    "# print(x)\n",
    "# print(y)"
   ]
  },
  {
   "cell_type": "code",
   "execution_count": 76,
   "id": "94568190-8648-4b84-8f71-d7ab660b1322",
   "metadata": {},
   "outputs": [],
   "source": [
    "from sklearn.model_selection import train_test_split\n",
    "x_train,x_test,y_train,y_test = train_test_split(x,y,test_size=0.20)\n"
   ]
  },
  {
   "cell_type": "code",
   "execution_count": 77,
   "id": "471036f4-4749-4b71-ab4c-f87a941bbea9",
   "metadata": {},
   "outputs": [],
   "source": [
    "#instantiate the vectorizer\n",
    "vect = CountVectorizer()"
   ]
  },
  {
   "cell_type": "code",
   "execution_count": 78,
   "id": "9f70e156-0ab3-47a8-ae17-81405c7f00ec",
   "metadata": {},
   "outputs": [],
   "source": [
    "vect.fit(x_train)\n",
    "x_train_dtm = vect.transform(x_train)\n",
    "tfidf_transformer = TfidfTransformer()\n",
    "# x_train_tfidf = tfidf_transformer.fit_transform(x_train_dtm)"
   ]
  },
  {
   "cell_type": "code",
   "execution_count": 79,
   "id": "1e47f0f5-a987-4421-b770-bbf425e630ec",
   "metadata": {},
   "outputs": [],
   "source": [
    "x_test_dtm = vect.transform(x_test)\n",
    "# x_test_tfidf = tfidf_transformer.transform(x_test_dtm)"
   ]
  },
  {
   "cell_type": "code",
   "execution_count": 90,
   "id": "a8579d1b-4517-4515-a768-07ac8138c9e4",
   "metadata": {},
   "outputs": [],
   "source": [
    "from sklearn.naive_bayes import MultinomialNB\n",
    "nb = MultinomialNB(alpha=0.1)\n",
    "\n"
   ]
  },
  {
   "cell_type": "code",
   "execution_count": 91,
   "id": "aa2de3cb-8a4d-497f-84f7-5074b622a658",
   "metadata": {},
   "outputs": [
    {
     "name": "stdout",
     "output_type": "stream",
     "text": [
      "CPU times: user 1.37 s, sys: 3.99 ms, total: 1.38 s\n",
      "Wall time: 1.37 s\n"
     ]
    },
    {
     "data": {
      "text/html": [
       "<style>#sk-container-id-5 {color: black;background-color: white;}#sk-container-id-5 pre{padding: 0;}#sk-container-id-5 div.sk-toggleable {background-color: white;}#sk-container-id-5 label.sk-toggleable__label {cursor: pointer;display: block;width: 100%;margin-bottom: 0;padding: 0.3em;box-sizing: border-box;text-align: center;}#sk-container-id-5 label.sk-toggleable__label-arrow:before {content: \"▸\";float: left;margin-right: 0.25em;color: #696969;}#sk-container-id-5 label.sk-toggleable__label-arrow:hover:before {color: black;}#sk-container-id-5 div.sk-estimator:hover label.sk-toggleable__label-arrow:before {color: black;}#sk-container-id-5 div.sk-toggleable__content {max-height: 0;max-width: 0;overflow: hidden;text-align: left;background-color: #f0f8ff;}#sk-container-id-5 div.sk-toggleable__content pre {margin: 0.2em;color: black;border-radius: 0.25em;background-color: #f0f8ff;}#sk-container-id-5 input.sk-toggleable__control:checked~div.sk-toggleable__content {max-height: 200px;max-width: 100%;overflow: auto;}#sk-container-id-5 input.sk-toggleable__control:checked~label.sk-toggleable__label-arrow:before {content: \"▾\";}#sk-container-id-5 div.sk-estimator input.sk-toggleable__control:checked~label.sk-toggleable__label {background-color: #d4ebff;}#sk-container-id-5 div.sk-label input.sk-toggleable__control:checked~label.sk-toggleable__label {background-color: #d4ebff;}#sk-container-id-5 input.sk-hidden--visually {border: 0;clip: rect(1px 1px 1px 1px);clip: rect(1px, 1px, 1px, 1px);height: 1px;margin: -1px;overflow: hidden;padding: 0;position: absolute;width: 1px;}#sk-container-id-5 div.sk-estimator {font-family: monospace;background-color: #f0f8ff;border: 1px dotted black;border-radius: 0.25em;box-sizing: border-box;margin-bottom: 0.5em;}#sk-container-id-5 div.sk-estimator:hover {background-color: #d4ebff;}#sk-container-id-5 div.sk-parallel-item::after {content: \"\";width: 100%;border-bottom: 1px solid gray;flex-grow: 1;}#sk-container-id-5 div.sk-label:hover label.sk-toggleable__label {background-color: #d4ebff;}#sk-container-id-5 div.sk-serial::before {content: \"\";position: absolute;border-left: 1px solid gray;box-sizing: border-box;top: 0;bottom: 0;left: 50%;z-index: 0;}#sk-container-id-5 div.sk-serial {display: flex;flex-direction: column;align-items: center;background-color: white;padding-right: 0.2em;padding-left: 0.2em;position: relative;}#sk-container-id-5 div.sk-item {position: relative;z-index: 1;}#sk-container-id-5 div.sk-parallel {display: flex;align-items: stretch;justify-content: center;background-color: white;position: relative;}#sk-container-id-5 div.sk-item::before, #sk-container-id-5 div.sk-parallel-item::before {content: \"\";position: absolute;border-left: 1px solid gray;box-sizing: border-box;top: 0;bottom: 0;left: 50%;z-index: -1;}#sk-container-id-5 div.sk-parallel-item {display: flex;flex-direction: column;z-index: 1;position: relative;background-color: white;}#sk-container-id-5 div.sk-parallel-item:first-child::after {align-self: flex-end;width: 50%;}#sk-container-id-5 div.sk-parallel-item:last-child::after {align-self: flex-start;width: 50%;}#sk-container-id-5 div.sk-parallel-item:only-child::after {width: 0;}#sk-container-id-5 div.sk-dashed-wrapped {border: 1px dashed gray;margin: 0 0.4em 0.5em 0.4em;box-sizing: border-box;padding-bottom: 0.4em;background-color: white;}#sk-container-id-5 div.sk-label label {font-family: monospace;font-weight: bold;display: inline-block;line-height: 1.2em;}#sk-container-id-5 div.sk-label-container {text-align: center;}#sk-container-id-5 div.sk-container {/* jupyter's `normalize.less` sets `[hidden] { display: none; }` but bootstrap.min.css set `[hidden] { display: none !important; }` so we also need the `!important` here to be able to override the default hidden behavior on the sphinx rendered scikit-learn.org. See: https://github.com/scikit-learn/scikit-learn/issues/21755 */display: inline-block !important;position: relative;}#sk-container-id-5 div.sk-text-repr-fallback {display: none;}</style><div id=\"sk-container-id-5\" class=\"sk-top-container\"><div class=\"sk-text-repr-fallback\"><pre>MultinomialNB(alpha=0.1)</pre><b>In a Jupyter environment, please rerun this cell to show the HTML representation or trust the notebook. <br />On GitHub, the HTML representation is unable to render, please try loading this page with nbviewer.org.</b></div><div class=\"sk-container\" hidden><div class=\"sk-item\"><div class=\"sk-estimator sk-toggleable\"><input class=\"sk-toggleable__control sk-hidden--visually\" id=\"sk-estimator-id-5\" type=\"checkbox\" checked><label for=\"sk-estimator-id-5\" class=\"sk-toggleable__label sk-toggleable__label-arrow\">MultinomialNB</label><div class=\"sk-toggleable__content\"><pre>MultinomialNB(alpha=0.1)</pre></div></div></div></div></div>"
      ],
      "text/plain": [
       "MultinomialNB(alpha=0.1)"
      ]
     },
     "execution_count": 91,
     "metadata": {},
     "output_type": "execute_result"
    }
   ],
   "source": [
    "%time nb.fit(x_train_dtm, y_train)\n",
    "\n"
   ]
  },
  {
   "cell_type": "code",
   "execution_count": 92,
   "id": "292ba969-49e2-48cb-8c3e-086813f9cef4",
   "metadata": {},
   "outputs": [],
   "source": [
    "y_pred_class = nb.predict(x_test_dtm)"
   ]
  },
  {
   "cell_type": "code",
   "execution_count": 93,
   "id": "84e25c2b-40dc-4d5c-a2a1-57b5b2a81f4e",
   "metadata": {},
   "outputs": [
    {
     "data": {
      "text/plain": [
       "0.7165714971449143"
      ]
     },
     "execution_count": 93,
     "metadata": {},
     "output_type": "execute_result"
    }
   ],
   "source": [
    "from sklearn import metrics\n",
    "metrics.accuracy_score(y_test, y_pred_class)"
   ]
  },
  {
   "cell_type": "code",
   "execution_count": 94,
   "id": "5fec0bd3-ec0e-41be-9a43-50aa2a234d51",
   "metadata": {},
   "outputs": [
    {
     "name": "stdout",
     "output_type": "stream",
     "text": [
      "[79900. 79884. 80089. 80068. 80043.]\n",
      "['blocker' 'critical' 'major' 'minor' 'normal']\n"
     ]
    }
   ],
   "source": [
    "class_counts = nb.class_count_\n",
    "print(class_counts)\n",
    "label_order = nb.classes_\n",
    "print(label_order)\n",
    "\n"
   ]
  },
  {
   "cell_type": "code",
   "execution_count": 95,
   "id": "94e9f34a-2fb1-4e14-b304-e53b5c7b8df2",
   "metadata": {},
   "outputs": [
    {
     "data": {
      "text/plain": [
       "0.7314667586703468"
      ]
     },
     "execution_count": 95,
     "metadata": {},
     "output_type": "execute_result"
    }
   ],
   "source": [
    "y_pred_class_train = nb.predict(x_train_dtm)\n",
    "from sklearn import metrics\n",
    "metrics.accuracy_score(y_train, y_pred_class_train)"
   ]
  },
  {
   "cell_type": "code",
   "execution_count": 96,
   "id": "5db05e03-5082-46ad-847b-dc94bd6cb87b",
   "metadata": {},
   "outputs": [
    {
     "data": {
      "text/plain": [
       "array([[18108,   470,   918,   435,   169],\n",
       "       [  362, 15421,  2948,   668,   702],\n",
       "       [  386,  1437, 13469,  3059,  1560],\n",
       "       [  212,   533,  2853, 15012,  1322],\n",
       "       [  546,  1635,  4117,  4010,  9645]])"
      ]
     },
     "execution_count": 96,
     "metadata": {},
     "output_type": "execute_result"
    }
   ],
   "source": [
    "from sklearn.metrics import confusion_matrix\n",
    "conf_mat = confusion_matrix(y_test, y_pred_class)\n",
    "conf_mat\n",
    "\n"
   ]
  },
  {
   "cell_type": "code",
   "execution_count": 97,
   "id": "e3436db3-22e9-458c-8177-0e82653291e6",
   "metadata": {},
   "outputs": [],
   "source": [
    "cm_display = metrics.ConfusionMatrixDisplay(confusion_matrix = conf_mat, display_labels = nb.classes_)\n",
    "# cm_display = metrics.ConfusionMatrixDisplay(confusion_matrix = conf_mat, display_labels = ['normal','minor','major','critical'])"
   ]
  },
  {
   "cell_type": "code",
   "execution_count": 98,
   "id": "0f6fc250-2101-4ab4-996e-df0ff77abadc",
   "metadata": {},
   "outputs": [
    {
     "data": {
      "image/png": "[encoded data removed]",
      "text/plain": [
       "<Figure size 640x480 with 2 Axes>"
      ]
     },
     "metadata": {},
     "output_type": "display_data"
    }
   ],
   "source": [
    "cm_display.plot()\n",
    "plt.show()\n"
   ]
  },
  {
   "cell_type": "code",
   "execution_count": 99,
   "id": "efdaf885-dce6-44aa-849a-f7c6bf5bd46f",
   "metadata": {},
   "outputs": [
    {
     "name": "stdout",
     "output_type": "stream",
     "text": [
      "              precision    recall  f1-score   support\n",
      "\n",
      "     blocker       0.92      0.90      0.91     20100\n",
      "    critical       0.79      0.77      0.78     20101\n",
      "       major       0.55      0.68      0.61     19911\n",
      "       minor       0.65      0.75      0.70     19932\n",
      "      normal       0.72      0.48      0.58     19953\n",
      "\n",
      "    accuracy                           0.72     99997\n",
      "   macro avg       0.73      0.72      0.71     99997\n",
      "weighted avg       0.73      0.72      0.72     99997\n",
      "\n"
     ]
    }
   ],
   "source": [
    "from sklearn.metrics import classification_report\n",
    "\n",
    "# assuming conf_mat is your multi-class confusion matrix\n",
    "# target_names = ['minor', 'major', 'critical', 'blocker']\n",
    "target_names = nb.classes_\n",
    "print(classification_report(y_test, y_pred_class, target_names=target_names))\n"
   ]
  },
  {
   "cell_type": "code",
   "execution_count": null,
   "id": "8c5be00f-61de-459d-9d88-9755b4e2c211",
   "metadata": {},
   "outputs": [],
   "source": []
  },
  {
   "cell_type": "code",
   "execution_count": 101,
   "id": "2da99612-804e-48d1-a933-eb8251d78055",
   "metadata": {},
   "outputs": [
    {
     "name": "stdout",
     "output_type": "stream",
     "text": [
      "CPU times: user 19 µs, sys: 0 ns, total: 19 µs\n",
      "Wall time: 33.9 µs\n"
     ]
    },
    {
     "data": {
      "text/plain": [
       "'minor'"
      ]
     },
     "execution_count": 101,
     "metadata": {},
     "output_type": "execute_result"
    }
   ],
   "source": [
    "#testing for one\n",
    "%time ip = [\"button color is wrong\"]\n",
    "ip_dtm = vect.transform(ip)\n",
    "# ip_tfidf = tfidf_transformer.transform(ip_dtm)\n",
    "nb.predict(ip_dtm)[0]"
   ]
  },
  {
   "cell_type": "code",
   "execution_count": 24,
   "id": "cc307998-3994-4a22-bcf0-25152b354f73",
   "metadata": {},
   "outputs": [],
   "source": [
    "# #pikcle the model and put into the jar\n",
    "# import pickle\n",
    "# pickle.dump(nb, open('pickle_jar/naive_bayes_model.pkl', 'wb'))\n",
    "# pickle.dump(vect, open('pickle_jar/naive_bayes_vect.pkl', 'wb'))\n",
    "\n"
   ]
  },
  {
   "cell_type": "code",
   "execution_count": 102,
   "id": "60ab7425-7482-439a-be67-964880b0d81f",
   "metadata": {},
   "outputs": [
    {
     "data": {
      "image/png": "[encoded data removed]",
      "text/plain": [
       "<Figure size 640x480 with 1 Axes>"
      ]
     },
     "metadata": {},
     "output_type": "display_data"
    }
   ],
   "source": [
    "from sklearn.feature_extraction.text import TfidfVectorizer\n",
    "from sklearn.naive_bayes import MultinomialNB\n",
    "from sklearn.model_selection import learning_curve\n",
    "import matplotlib.pyplot as plt\n",
    "import numpy as np\n",
    "\n",
    "# Define the TF-IDF vectorizer\n",
    "vectorizer = TfidfVectorizer()\n",
    "\n",
    "# Fit the vectorizer to the text data and transform it\n",
    "X = vectorizer.fit_transform(df['description'])\n",
    "y = df['severity']\n",
    "\n",
    "# Define your Multinomial Naive Bayes model\n",
    "nb = MultinomialNB()\n",
    "\n",
    "# Generate the learning curves\n",
    "train_sizes, train_scores, test_scores = learning_curve(nb, X, y, cv=5)\n",
    "\n",
    "# Calculate the mean and standard deviation of the training and test scores\n",
    "train_scores_mean = np.mean(train_scores, axis=1)\n",
    "train_scores_std = np.std(train_scores, axis=1)\n",
    "test_scores_mean = np.mean(test_scores, axis=1)\n",
    "test_scores_std = np.std(test_scores, axis=1)\n",
    "\n",
    "# Plot the learning curves\n",
    "plt.figure()\n",
    "plt.title('Learning Curve')\n",
    "plt.xlabel('Training examples')\n",
    "plt.ylabel('Score')\n",
    "plt.ylim(0.0, 1.1)\n",
    "plt.grid()\n",
    "plt.fill_between(train_sizes, train_scores_mean - train_scores_std, train_scores_mean + train_scores_std, alpha=0.1, color='r')\n",
    "plt.fill_between(train_sizes, test_scores_mean - test_scores_std, test_scores_mean + test_scores_std, alpha=0.1, color='g')\n",
    "plt.plot(train_sizes, train_scores_mean, 'o-', color='r', label='Training score')\n",
    "plt.plot(train_sizes, test_scores_mean, 'o-', color='g', label='Cross-validation score')\n",
    "plt.legend(loc='best')\n",
    "plt.show()\n"
   ]
  },
  {
   "cell_type": "code",
   "execution_count": null,
   "id": "bae79b11-f7b5-4f3d-8497-f11d58bcb971",
   "metadata": {},
   "outputs": [],
   "source": [
    "from sklearn.naive_bayes import MultinomialNB\n",
    "from sklearn.svm import SVC\n",
    "from sklearn.feature_extraction.text import TfidfVectorizer\n",
    "from sklearn.model_selection import train_test_split\n",
    "from sklearn.metrics import accuracy_score\n",
    "\n",
    "# Vectorize the text data using TfidfVectorizer\n",
    "tfidf = TfidfVectorizer()\n",
    "X_tfidf = tfidf.fit_transform(df['description'])\n",
    "\n",
    "# Split the data into training and testing sets\n",
    "X_train, X_test, y_train, y_test = train_test_split(X_tfidf, y, test_size=0.2, random_state=42)\n",
    "\n",
    "# Train the Naive Bayes model on the training data\n",
    "nb = MultinomialNB()\n",
    "nb.fit(X_train, y_train)\n",
    "\n",
    "# Get the predicted probabilities of the classes for the test data\n",
    "y_prob = nb.predict_proba(X_test)\n",
    "\n",
    "# Use the predicted probabilities as input to the SVM model\n",
    "svm = SVC(kernel='linear', C=1, random_state=42)\n",
    "svm.fit(y_prob, y_test)\n",
    "\n",
    "# Predict the classes of the test data using the Naive Bayes and SVM models\n",
    "y_pred_nb = nb.predict(X_test)\n",
    "y_pred_svm = svm.predict(y_prob)\n",
    "\n",
    "# Calculate the accuracy score of the models on the test data\n",
    "accuracy_nb = accuracy_score(y_test, y_pred_nb)\n",
    "accuracy_svm = accuracy_score(y_test, y_pred_svm)\n",
    "\n",
    "# Print the accuracy scores\n",
    "print(\"Accuracy of Naive Bayes:\", accuracy_nb)\n",
    "print(\"Accuracy of SVM:\", accuracy_svm)\n"
   ]
  },
  {
   "cell_type": "code",
   "execution_count": null,
   "id": "daaf4343-c933-4bfb-906d-008d08faa387",
   "metadata": {},
   "outputs": [],
   "source": []
  },
  {
   "cell_type": "code",
   "execution_count": null,
   "id": "3809409c-0a0f-4625-89de-2744d8428ec8",
   "metadata": {},
   "outputs": [],
   "source": []
  }
 ],
 "metadata": {
  "kernelspec": {
   "display_name": "Python 3 (ipykernel)",
   "language": "python",
   "name": "python3"
  },
  "language_info": {
   "codemirror_mode": {
    "name": "ipython",
    "version": 3
   },
   "file_extension": ".py",
   "mimetype": "text/x-python",
   "name": "python",
   "nbconvert_exporter": "python",
   "pygments_lexer": "ipython3",
   "version": "3.10.6"
  }
 },
 "nbformat": 4,
 "nbformat_minor": 5
}
