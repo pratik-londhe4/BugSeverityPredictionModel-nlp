{
 "cells": [
  {
   "cell_type": "code",
   "execution_count": 25,
   "id": "7cf2557e-46f0-43c2-bb58-0b55ad1fa589",
   "metadata": {},
   "outputs": [],
   "source": [
    "#imports\n",
    "import pandas as pd\n",
    "import numpy as np\n",
    "from sklearn.feature_extraction.text import CountVectorizer\n",
    "from sklearn.feature_extraction.text import TfidfTransformer\n",
    "import matplotlib.pyplot as plt\n",
    "from sklearn.naive_bayes import MultinomialNB\n"
   ]
  },
  {
   "cell_type": "code",
   "execution_count": 45,
   "id": "bd00fb95-b942-4d69-a36c-48f66e465e30",
   "metadata": {},
   "outputs": [],
   "source": [
    "df = pd.read_csv('bug_data.csv')\n",
    "df.head()\n",
    "df.dropna(inplace=True)"
   ]
  },
  {
   "cell_type": "code",
   "execution_count": 46,
   "id": "930a4e8d-c65e-451a-a865-36e373cc9c53",
   "metadata": {},
   "outputs": [
    {
     "data": {
      "text/plain": [
       "major       10000\n",
       "critical    10000\n",
       "minor       10000\n",
       "blocker     10000\n",
       "Name: severity, dtype: int64"
      ]
     },
     "execution_count": 46,
     "metadata": {},
     "output_type": "execute_result"
    }
   ],
   "source": [
    "from sklearn.utils import resample\n",
    "normal =df[df.severity=='normal']\n",
    "major =df[df.severity=='major']\n",
    "minor =df[df.severity=='minor']\n",
    "blocker =df[df.severity=='blocker']\n",
    "trivial =df[df.severity=='trivial']\n",
    "critical =df[df.severity=='critical']\n",
    "enhancement =df[df.severity=='enhancement']\n",
    "\n",
    "def resample_df(df):\n",
    "    return resample(df,replace=True,n_samples=10000)\n",
    "\n",
    "normal =resample_df(normal)\n",
    "major =resample_df(major)\n",
    "minor =resample_df(minor)\n",
    "blocker =resample_df(blocker)\n",
    "trivial =resample_df(trivial)\n",
    "critical =resample_df(critical)\n",
    "enhancement =resample_df(enhancement)\n",
    "\n",
    "df = pd.concat([major,critical,minor,blocker])\n",
    "\n",
    "\n",
    "df.severity.value_counts()\n"
   ]
  },
  {
   "cell_type": "code",
   "execution_count": 47,
   "id": "d2bc1251-40bb-4429-8a71-1bab91a8536b",
   "metadata": {},
   "outputs": [
    {
     "data": {
      "text/plain": [
       "(40000, 3)"
      ]
     },
     "execution_count": 47,
     "metadata": {},
     "output_type": "execute_result"
    }
   ],
   "source": [
    "df.severity.value_counts()\n",
    "df.shape"
   ]
  },
  {
   "cell_type": "code",
   "execution_count": 48,
   "id": "dcaa33f1-65e5-499b-ad5f-3510aee06762",
   "metadata": {},
   "outputs": [],
   "source": [
    "from sklearn.svm import SVC\n",
    "from sklearn.feature_extraction.text import TfidfVectorizer\n",
    "from sklearn.pipeline import Pipeline\n",
    "from sklearn.model_selection import train_test_split\n",
    "from sklearn.metrics import classification_report\n",
    "\n",
    "\n"
   ]
  },
  {
   "cell_type": "code",
   "execution_count": 49,
   "id": "066ad5ec-1712-493d-8da6-3d113384ed82",
   "metadata": {},
   "outputs": [
    {
     "name": "stdout",
     "output_type": "stream",
     "text": [
      "CPU times: user 546 ms, sys: 4 ms, total: 550 ms\n",
      "Wall time: 552 ms\n"
     ]
    }
   ],
   "source": [
    "# Vectorize text\n",
    "vectorizer = TfidfVectorizer()\n",
    "\n",
    "%time X = vectorizer.fit_transform(df['description'])\n",
    "y = df['severity']\n",
    "\n",
    "# Splitting the data into training and testing sets\n",
    "X_train, X_test, y_train, y_test = train_test_split(X,y, test_size=0.2)\n",
    "\n",
    "# Define the pipeline for text vectorization and SVM classification\n",
    "\n",
    "text_clf =  SVC(kernel='rbf', C=1.0, gamma='scale', class_weight='balanced')\n",
    "\n"
   ]
  },
  {
   "cell_type": "code",
   "execution_count": 50,
   "id": "af640926-7db3-45dd-9b8e-d78052458d87",
   "metadata": {},
   "outputs": [
    {
     "name": "stdout",
     "output_type": "stream",
     "text": [
      "CPU times: user 9min 31s, sys: 1.6 s, total: 9min 32s\n",
      "Wall time: 9min 57s\n",
      "              precision    recall  f1-score   support\n",
      "\n",
      "     blocker       0.88      0.88      0.88      2004\n",
      "    critical       0.82      0.73      0.78      2025\n",
      "       major       0.57      0.62      0.60      1944\n",
      "       minor       0.70      0.72      0.71      2027\n",
      "\n",
      "    accuracy                           0.74      8000\n",
      "   macro avg       0.74      0.74      0.74      8000\n",
      "weighted avg       0.75      0.74      0.74      8000\n",
      "\n"
     ]
    }
   ],
   "source": [
    "# Train the model\n",
    "%time text_clf.fit(X_train, y_train)\n",
    "\n",
    "# Predict on test data\n",
    "y_pred = text_clf.predict(X_test)\n",
    "\n",
    "# Evaluate the model\n",
    "print(classification_report(y_test, y_pred))"
   ]
  },
  {
   "cell_type": "code",
   "execution_count": 51,
   "id": "990cc7e5-4772-4b8d-80a2-32c007a35c98",
   "metadata": {},
   "outputs": [
    {
     "name": "stdout",
     "output_type": "stream",
     "text": [
      "CPU times: user 8 µs, sys: 0 ns, total: 8 µs\n",
      "Wall time: 11.7 µs\n"
     ]
    },
    {
     "data": {
      "text/plain": [
       "'major'"
      ]
     },
     "execution_count": 51,
     "metadata": {},
     "output_type": "execute_result"
    }
   ],
   "source": [
    "#testing for one\n",
    "%time ip = [\"the data is not sufficient\"]\n",
    "ip_dtm = vectorizer.transform(ip)\n",
    "# ip_tfidf = tfidf_transformer.transform(ip_dtm)\n",
    "text_clf.predict(ip_dtm)[0]"
   ]
  },
  {
   "cell_type": "code",
   "execution_count": null,
   "id": "334afdd9-fe49-436f-8b60-89fe1a9a8e57",
   "metadata": {},
   "outputs": [],
   "source": [
    "#pikcle the model and put into the jar\n",
    "import pickle\n",
    "pickle.dump(text_clf, open('pickle_jar/svm_model.pkl', 'wb'))\n",
    "pickle.dump(vectorizer, open('pickle_jar/svm_vect.pkl', 'wb'))\n",
    "\n"
   ]
  },
  {
   "cell_type": "code",
   "execution_count": 52,
   "id": "b91adb96-6838-441a-8aad-8ce5dd20d935",
   "metadata": {},
   "outputs": [
    {
     "data": {
      "text/plain": [
       "0.739625"
      ]
     },
     "execution_count": 52,
     "metadata": {},
     "output_type": "execute_result"
    }
   ],
   "source": [
    "from sklearn import metrics\n",
    "metrics.accuracy_score(y_test, y_pred)"
   ]
  },
  {
   "cell_type": "code",
   "execution_count": 54,
   "id": "e147a74b-2889-4a2a-8a89-2b3d82c262af",
   "metadata": {},
   "outputs": [
    {
     "data": {
      "image/png": "[encoded data removed]",
      "text/plain": [
       "<Figure size 640x480 with 1 Axes>"
      ]
     },
     "metadata": {},
     "output_type": "display_data"
    }
   ],
   "source": [
    "from sklearn.model_selection import learning_curve\n",
    "\n",
    "\n",
    "# Define your SVM model\n",
    "svm_model = SVC(kernel='linear', C=1, random_state=42)\n",
    "\n",
    "# Generate the learning curves\n",
    "train_sizes, train_scores, test_scores = learning_curve(svm_model, X, y, cv=5)\n",
    "\n",
    "# Calculate the mean and standard deviation of the training and test scores\n",
    "train_scores_mean = np.mean(train_scores, axis=1)\n",
    "train_scores_std = np.std(train_scores, axis=1)\n",
    "test_scores_mean = np.mean(test_scores, axis=1)\n",
    "test_scores_std = np.std(test_scores, axis=1)\n",
    "\n",
    "# Plot the learning curves\n",
    "plt.figure()\n",
    "plt.title('Learning Curve')\n",
    "plt.xlabel('Training examples')\n",
    "plt.ylabel('Score')\n",
    "plt.ylim(0.0, 1.1)\n",
    "plt.grid()\n",
    "plt.fill_between(train_sizes, train_scores_mean - train_scores_std, train_scores_mean + train_scores_std, alpha=0.1, color='r')\n",
    "plt.fill_between(train_sizes, test_scores_mean - test_scores_std, test_scores_mean + test_scores_std, alpha=0.1, color='g')\n",
    "plt.plot(train_sizes, train_scores_mean, 'o-', color='r', label='Training score')\n",
    "plt.plot(train_sizes, test_scores_mean, 'o-', color='g', label='Cross-validation score')\n",
    "plt.legend(loc='best')\n",
    "plt.show()\n"
   ]
  },
  {
   "cell_type": "code",
   "execution_count": null,
   "id": "e0beb807-fab7-4f15-9ec9-f9c350829a01",
   "metadata": {},
   "outputs": [],
   "source": []
  },
  {
   "cell_type": "code",
   "execution_count": null,
   "id": "d42756cc-aae9-4d7f-a01f-7f2ae9ae2728",
   "metadata": {},
   "outputs": [],
   "source": []
  },
  {
   "cell_type": "code",
   "execution_count": null,
   "id": "ec6bf4e3-e21d-4ad8-a0fe-832f90684e7d",
   "metadata": {},
   "outputs": [],
   "source": []
  },
  {
   "cell_type": "code",
   "execution_count": null,
   "id": "e97f8d74-8f89-4ae0-a2d9-d2322534c082",
   "metadata": {},
   "outputs": [],
   "source": []
  }
 ],
 "metadata": {
  "kernelspec": {
   "display_name": "Python 3 (ipykernel)",
   "language": "python",
   "name": "python3"
  },
  "language_info": {
   "codemirror_mode": {
    "name": "ipython",
    "version": 3
   },
   "file_extension": ".py",
   "mimetype": "text/x-python",
   "name": "python",
   "nbconvert_exporter": "python",
   "pygments_lexer": "ipython3",
   "version": "3.10.6"
  }
 },
 "nbformat": 4,
 "nbformat_minor": 5
}
